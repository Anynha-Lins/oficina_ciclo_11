{
  "nbformat": 4,
  "nbformat_minor": 0,
  "metadata": {
    "colab": {
      "provenance": [],
      "toc_visible": true,
      "include_colab_link": true
    },
    "kernelspec": {
      "name": "python3",
      "display_name": "Python 3"
    },
    "language_info": {
      "name": "python"
    }
  },
  "cells": [
    {
      "cell_type": "markdown",
      "metadata": {
        "id": "view-in-github",
        "colab_type": "text"
      },
      "source": [
        "<a href=\"https://colab.research.google.com/github/Anynha-Lins/oficina_ciclo_11/blob/main/c_pia_de_exerc_cios.ipynb\" target=\"_parent\"><img src=\"https://colab.research.google.com/assets/colab-badge.svg\" alt=\"Open In Colab\"/></a>"
      ]
    },
    {
      "cell_type": "markdown",
      "source": [
        "*Para a realização desses exercícios, peço que configurem para não aparecer sugestões da IA Gemini*"
      ],
      "metadata": {
        "id": "pAFFoVXs4XQo"
      }
    },
    {
      "cell_type": "markdown",
      "source": [
        "### A) **Utilizando variáveis, gere uma apresentação curta de sí mesma, como nesse exemplo**:\n",
        "\n"
      ],
      "metadata": {
        "id": "rZbJ_1LJ2DLf"
      }
    },
    {
      "cell_type": "code",
      "source": [
        "# Oi! Eu sou a Amanda, tenho 30 anos, moro em Salvador e meu signo é Gêmeos"
      ],
      "metadata": {
        "id": "ibKRn-P37-b2"
      },
      "execution_count": null,
      "outputs": []
    },
    {
      "cell_type": "code",
      "source": [
        "# Dica: As variáveis podem ser algo como:\n",
        "nome = 'Amanda'\n",
        "idade = 30\n",
        "cidade = 'Salvador'\n",
        "signo = 'Gêmeos'"
      ],
      "metadata": {
        "id": "n0Rjb0s_2ula"
      },
      "execution_count": null,
      "outputs": []
    },
    {
      "cell_type": "code",
      "source": [
        "# Resposta aqui:\n",
        "nome = input(\"Qual é o seu nome?\")\n",
        "idade = input(\"Qual sua idade?\")\n",
        "cidade = input(\"Onde você mora?\")\n",
        "signo = input(\"Qual seu signo?\")\n",
        "curso = input(\"Você estuda? Qual curso?\")\n",
        "print(f\"Olá pessoal, sou a {nome}, tenho {idade} anos, moro em {cidade} a 7 anos.\")\n",
        "print (f\"Atualmente estou como estudante de {curso} pela UNICID - Universidade da Cidade de São Paulo, no 5° semestre,\")\n",
        "print (f\"essa para mim foi uma grande conquista, eu consegui 100% de bolsa pelo Prouni\")\n",
        "print (f\"Sou do signo de {signo} graças a Deus e estou muito feliz de estar com vocês, gratidão!\") #f é formatação\n"
      ],
      "metadata": {
        "id": "kil7YL7Z3AoV",
        "outputId": "90c75cd1-132a-4b67-98a5-559a9d198d58",
        "colab": {
          "base_uri": "https://localhost:8080/"
        }
      },
      "execution_count": null,
      "outputs": [
        {
          "output_type": "stream",
          "name": "stdout",
          "text": [
            "Qual é o seu nome?Ana\n",
            "Qual sua idade?27\n",
            "Onde você mora?Mogi das Cruzes - SP\n",
            "Qual seu signo?Capricórnio\n",
            "Você estuda? Qual curso?Ciências da Computação\n",
            "Olá pessoal, sou a Ana, tenho 27 anos, moro em Mogi das Cruzes - SP a 7 anos.\n",
            "Atualmente estou como estudante de Ciências da Computação pela UNICID - Universidade da Cidade de São Paulo, no 5° semestre,\n",
            "essa para mim foi uma grande conquista, eu consegui 100% de bolsa pelo Prouni\n",
            "Sou do signo de Capricórnio graças a Deus e estou muito feliz de estar com vocês, gratidão!\n"
          ]
        }
      ]
    },
    {
      "cell_type": "markdown",
      "source": [
        "\n",
        "\n",
        "---\n",
        "\n"
      ],
      "metadata": {
        "id": "dgkbPq2JK7ES"
      }
    },
    {
      "cell_type": "markdown",
      "source": [
        "### B) **Qual o maior valor dessa lista de gastos?**\n",
        "\n"
      ],
      "metadata": {
        "id": "jQnXX8Ii348J"
      }
    },
    {
      "cell_type": "code",
      "source": [
        "gastos = [10.60, 11.99, 5.50, 10, 45.99, 7.50, 4.00]"
      ],
      "metadata": {
        "id": "8CeAhHTf9aYk"
      },
      "execution_count": null,
      "outputs": []
    },
    {
      "cell_type": "code",
      "source": [
        "# O valor mais caro é: 45.99"
      ],
      "metadata": {
        "id": "EWRw9Zkn-RWL"
      },
      "execution_count": null,
      "outputs": []
    },
    {
      "cell_type": "code",
      "source": [
        "# Resposta aqui\n",
        "valor_maximo = max(gastos)\n",
        "print(\"O valor mais caro é: \" + str(valor_maximo))\n",
        "\n",
        "\n",
        "\n",
        "\n"
      ],
      "metadata": {
        "id": "muN_hCwu-dWp",
        "colab": {
          "base_uri": "https://localhost:8080/"
        },
        "outputId": "ec5500b0-08a6-49f8-fdc7-f7b182658fe9"
      },
      "execution_count": null,
      "outputs": [
        {
          "output_type": "stream",
          "name": "stdout",
          "text": [
            "O valor mais caro é: 45.99\n"
          ]
        }
      ]
    },
    {
      "cell_type": "markdown",
      "source": [
        "\n",
        "\n",
        "---\n",
        "\n"
      ],
      "metadata": {
        "id": "skCyGhKG-gpv"
      }
    },
    {
      "cell_type": "markdown",
      "source": [
        "### C) **Qual a média dessa lista?**:\n",
        "\n"
      ],
      "metadata": {
        "id": "7-fmR1dU9Lmm"
      }
    },
    {
      "cell_type": "code",
      "source": [
        "numeros = [10,80,50,90,70]"
      ],
      "metadata": {
        "id": "_x74pbVn7t91"
      },
      "execution_count": null,
      "outputs": []
    },
    {
      "cell_type": "code",
      "source": [
        "# A média dos números é: 60.0"
      ],
      "metadata": {
        "id": "QGJ9F4go8nmt"
      },
      "execution_count": null,
      "outputs": []
    },
    {
      "cell_type": "code",
      "source": [
        "# Resposta aqui\n",
        "media = sum(numeros)/ len(numeros)\n",
        "print(\"A média dos números é: \" + str(media))\n"
      ],
      "metadata": {
        "id": "C8SOjNdB8Ptz",
        "colab": {
          "base_uri": "https://localhost:8080/"
        },
        "outputId": "75bf617e-3765-4be1-8889-5c696a513683"
      },
      "execution_count": null,
      "outputs": [
        {
          "output_type": "stream",
          "name": "stdout",
          "text": [
            "A média dos números é: 60.0\n"
          ]
        }
      ]
    },
    {
      "cell_type": "markdown",
      "source": [
        "\n",
        "\n",
        "---\n",
        "\n"
      ],
      "metadata": {
        "id": "A5riB5veK95b"
      }
    },
    {
      "cell_type": "markdown",
      "source": [
        "### D) **Qual a média final dessas notas, qual a maior e qual a menor nota**"
      ],
      "metadata": {
        "id": "goAxWssZ_N5a"
      }
    },
    {
      "cell_type": "code",
      "source": [
        "notas = [10,7.8, 6, 8, 9]\n"
      ],
      "metadata": {
        "id": "_IY5S15p_YIR"
      },
      "execution_count": null,
      "outputs": []
    },
    {
      "cell_type": "code",
      "source": [
        "# A média final é 8.16. A sua maior nota foi 10 e a menor nota foi 6!"
      ],
      "metadata": {
        "id": "Xa-J0VSI_6YZ"
      },
      "execution_count": null,
      "outputs": []
    },
    {
      "cell_type": "code",
      "source": [
        "media = sum(notas)/ len(notas)\n",
        "nota_alta = max(notas)\n",
        "nota_baixa = min(notas)\n",
        "print(f\"A média final é {media}. A sua maior nota foi {nota_alta} e a menor nota foi {nota_baixa}!\")"
      ],
      "metadata": {
        "colab": {
          "base_uri": "https://localhost:8080/"
        },
        "id": "bN4p6QruzRAJ",
        "outputId": "9bdaffe5-afbd-40e5-b912-18d3bd20bfbd"
      },
      "execution_count": null,
      "outputs": [
        {
          "output_type": "stream",
          "name": "stdout",
          "text": [
            "A média final é 8.16. A sua maior nota foi 10 e a menor nota foi 6!\n"
          ]
        }
      ]
    },
    {
      "cell_type": "markdown",
      "source": [
        "\n",
        "\n",
        "---\n",
        "\n"
      ],
      "metadata": {
        "id": "ifwPeyZQK-2l"
      }
    },
    {
      "cell_type": "markdown",
      "source": [
        "### E) **Com as mesmas informações do exercício anterior, apresente se a aluna foi APROVADA ou REPROVADA**"
      ],
      "metadata": {
        "id": "p8L7DdPbApDN"
      }
    },
    {
      "cell_type": "markdown",
      "source": [
        "*  Se a média for igual ou superior a 6 apresentar a mensagem \"Parabéns, você foi APROVADA!\"\n",
        "*  Se a média for menor, apresentar \"Não foi dessa vez, infelizmente você foi REPROVADA!\""
      ],
      "metadata": {
        "id": "kb21A5Z1A7CU"
      }
    },
    {
      "cell_type": "code",
      "source": [
        "# Parabéns você foi aprovada!"
      ],
      "metadata": {
        "id": "InjCDLOZBZhC"
      },
      "execution_count": null,
      "outputs": []
    },
    {
      "cell_type": "code",
      "source": [
        "# Resposta aqui\n",
        "if media>= 6:\n",
        "    print(\"Parabéns, você foi APROVADA!\")\n",
        "else:\n",
        "    print(\"Não foi dessa vez, infelizmente você foi REPROVADA!\")"
      ],
      "metadata": {
        "id": "g2nUuyoUalog",
        "colab": {
          "base_uri": "https://localhost:8080/"
        },
        "outputId": "4b6c5226-d698-4646-d649-6da8381d0165"
      },
      "execution_count": null,
      "outputs": [
        {
          "output_type": "stream",
          "name": "stdout",
          "text": [
            "Parabéns, você foi APROVADA!\n"
          ]
        }
      ]
    },
    {
      "cell_type": "markdown",
      "source": [
        "\n",
        "\n",
        "---\n",
        "\n"
      ],
      "metadata": {
        "id": "X5Ya3MHRK_4N"
      }
    },
    {
      "cell_type": "markdown",
      "source": [
        "### F) **Desenvolva um programa que realize as quatro operações básicas (adição, subtração, multiplicação e divisão) entre dois números. A usuária deve escolher a operação e inserir os valores**"
      ],
      "metadata": {
        "id": "YT8vTnW2ENVL"
      }
    },
    {
      "cell_type": "code",
      "source": [
        "#Digite o primeiro número: 10\n",
        "#Digite o segundo número: 20\n",
        "#Digite a operação (+, -, *, /): +\n",
        "#Resultado: 30.0"
      ],
      "metadata": {
        "id": "gpmOjgseE4aD"
      },
      "execution_count": null,
      "outputs": []
    },
    {
      "cell_type": "code",
      "source": [
        "# Resposta aqui\n",
        "\n",
        "def calculadora():\n",
        "  operacao = input(\"Digite a operação (+, -, *, /)\")\n",
        "  num1 = float(input(\"Digite o 1° número: \"))\n",
        "  num2 = float(input(\"Digite o 2° número: \"))\n",
        "\n",
        "  if operacao == \"+\":\n",
        "      resultado = num1 + num2\n",
        "  elif operacao == \"-\":\n",
        "        resultado = num1 - num2\n",
        "  elif operacao == \"*\":\n",
        "        resultado = num1 * num2\n",
        "  elif operacao == \"/\":\n",
        "          if num2 == 0:\n",
        "            resultado = \"Não é possível dividir por 0\"\n",
        "          else:\n",
        "              resultado = num1 / num2\n",
        "  else:\n",
        "        resultado: \"Não é possível calcular\"\n",
        "\n",
        "  print(f\"Resultado: {resultado}\")\n",
        "\n",
        "calculadora()\n",
        "\n",
        "\n",
        "\n",
        "\n",
        "\n",
        "\n"
      ],
      "metadata": {
        "id": "iTu22D0VEinD",
        "colab": {
          "base_uri": "https://localhost:8080/"
        },
        "outputId": "1efeee9f-8387-4e95-8689-3ab5a50013a8"
      },
      "execution_count": 8,
      "outputs": [
        {
          "output_type": "stream",
          "name": "stdout",
          "text": [
            "Digite a operação*\n",
            "Digite o 1° número: 10\n",
            "Digite o 2° número: 5\n",
            "Resultado: 50.0\n"
          ]
        }
      ]
    },
    {
      "cell_type": "markdown",
      "source": [
        "\n",
        "\n",
        "---\n",
        "\n"
      ],
      "metadata": {
        "id": "X0ZvZeNCLA04"
      }
    },
    {
      "cell_type": "markdown",
      "source": [
        "### G) **Faça um Programa que leia três números e mostre-os em ordem decrescente.**"
      ],
      "metadata": {
        "id": "vdf5rEiZF5KM"
      }
    },
    {
      "cell_type": "code",
      "source": [
        "# Resposta aqui"
      ],
      "metadata": {
        "id": "PMPrtPEOF7eE"
      },
      "execution_count": null,
      "outputs": []
    },
    {
      "cell_type": "markdown",
      "source": [
        "\n",
        "\n",
        "---\n",
        "\n"
      ],
      "metadata": {
        "id": "lX9BdmxyLBtt"
      }
    },
    {
      "cell_type": "markdown",
      "source": [
        "### H) **Faça uma função que retorne o reverso de um número inteiro informado. Por exemplo: 153 -> 351**"
      ],
      "metadata": {
        "id": "p0A-lta0Gmcq"
      }
    },
    {
      "cell_type": "code",
      "source": [
        "# Resposta aqui"
      ],
      "metadata": {
        "id": "0Ppk5OneHom-"
      },
      "execution_count": null,
      "outputs": []
    },
    {
      "cell_type": "markdown",
      "source": [
        "\n",
        "\n",
        "---\n",
        "\n"
      ],
      "metadata": {
        "id": "GWlXyhTlLCii"
      }
    },
    {
      "cell_type": "markdown",
      "source": [
        "### I) **Faça um programa que solicite o nome do usuário e imprima-o em formato de escada.**"
      ],
      "metadata": {
        "id": "4DKAX96gKJZv"
      }
    },
    {
      "cell_type": "code",
      "source": [
        "#Digite seu nome: amanda\n",
        "#a\n",
        "#am\n",
        "#ama\n",
        "#aman\n",
        "#amand\n",
        "#amanda"
      ],
      "metadata": {
        "id": "yRsRy144KKds"
      },
      "execution_count": null,
      "outputs": []
    },
    {
      "cell_type": "code",
      "source": [
        "# Resposta aqui"
      ],
      "metadata": {
        "id": "N2ohocU_KO08"
      },
      "execution_count": null,
      "outputs": []
    }
  ]
}