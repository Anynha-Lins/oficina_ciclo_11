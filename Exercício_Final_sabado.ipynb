{
  "nbformat": 4,
  "nbformat_minor": 0,
  "metadata": {
    "colab": {
      "provenance": [],
      "include_colab_link": true
    },
    "kernelspec": {
      "name": "python3",
      "display_name": "Python 3"
    },
    "language_info": {
      "name": "python"
    }
  },
  "cells": [
    {
      "cell_type": "markdown",
      "metadata": {
        "id": "view-in-github",
        "colab_type": "text"
      },
      "source": [
        "<a href=\"https://colab.research.google.com/github/Anynha-Lins/oficina_ciclo_11/blob/main/Exerc%C3%ADcio_Final_sabado.ipynb\" target=\"_parent\"><img src=\"https://colab.research.google.com/assets/colab-badge.svg\" alt=\"Open In Colab\"/></a>"
      ]
    },
    {
      "cell_type": "markdown",
      "source": [
        "# Contagem de Medalhas\n",
        "\n",
        "Crie um programa que receba o número de medalhas de ouro, prata e bronze de um país nas Olimpíadas e calcule o total de medalhas.\n",
        "Quando escrever 'sair', o programa deverá encerrar e mostrar na tela o ranking de medalhas no formato:"
      ],
      "metadata": {
        "id": "RQN1e5FZY6SZ"
      }
    },
    {
      "cell_type": "code",
      "source": [
        "#Ranking de medalhas:\n",
        "#Brasil: 7 medalhas\n",
        "#França: 6 medalhas\n",
        "#Argentina: 3 medalhas"
      ],
      "metadata": {
        "id": "gCq_KLHzZSzb"
      },
      "execution_count": null,
      "outputs": []
    },
    {
      "cell_type": "code",
      "execution_count": 30,
      "metadata": {
        "id": "AJJhjxiPTd5s",
        "colab": {
          "base_uri": "https://localhost:8080/"
        },
        "outputId": "07e74262-e6f6-48c9-8c11-9cc4ade6c91a"
      },
      "outputs": [
        {
          "output_type": "stream",
          "name": "stdout",
          "text": [
            "Digite o nome do país (ou sair para encerrar): fr\n",
            "Digite o número de medalhas de Ouro: 10\n",
            "Digite o número de medalhas de Prata: 10\n",
            "Digite o número de medalhas de Bronze: 10\n",
            "Digite o nome do país (ou sair para encerrar): br\n",
            "Digite o número de medalhas de Ouro: 7\n",
            "Digite o número de medalhas de Prata: 11\n",
            "Digite o número de medalhas de Bronze: 5\n",
            "Digite o nome do país (ou sair para encerrar): eua\n",
            "Digite o número de medalhas de Ouro: 10\n",
            "Digite o número de medalhas de Prata: 5\n",
            "Digite o número de medalhas de Bronze: 2\n",
            "Digite o nome do país (ou sair para encerrar): sair\n",
            "\n",
            "Ranking de medalhas:\n",
            "fr: 30 medalhas\n",
            "br: 23 medalhas\n",
            "eua: 17 medalhas\n"
          ]
        }
      ],
      "source": [
        "# Resposta aqui\n",
        "\n",
        "ranking = {}\n",
        "\n",
        "while True:\n",
        "    pais = input(\"Digite o nome do país (ou sair para encerrar): \")\n",
        "    if pais.lower() == \"sair\":\n",
        "        break\n",
        "    ouro = int(input(\"Digite o número de medalhas de Ouro: \"))\n",
        "    prata = int(input(\"Digite o número de medalhas de Prata: \"))\n",
        "    bronze = int(input(\"Digite o número de medalhas de Bronze: \"))\n",
        "\n",
        "    soma_med = ouro + prata + bronze\n",
        "    ranking[pais] = soma_med\n",
        "\n",
        "\n",
        "print(\"\\nRanking de medalhas:\")\n",
        "for pais, total in sorted(ranking.items(), key=lambda item: item[1], reverse=True):\n",
        "    print(f\"{pais}: {total} medalhas\")\n",
        "\n",
        "\n",
        "\n",
        "\n",
        "\n"
      ]
    }
  ]
}